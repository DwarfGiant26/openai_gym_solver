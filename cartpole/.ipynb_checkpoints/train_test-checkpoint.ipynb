{
 "cells": [
  {
   "cell_type": "code",
   "execution_count": 1,
   "id": "ed707e66-45d8-45c4-bd89-6563ed9ad43c",
   "metadata": {},
   "outputs": [
    {
     "name": "stdout",
     "output_type": "stream",
     "text": [
      "Requirement already satisfied: gymnasium in /usr/local/lib/python3.9/dist-packages (from -r requirements.txt (line 1)) (0.28.1)\n",
      "Requirement already satisfied: box2d-py in /usr/local/lib/python3.9/dist-packages (from -r requirements.txt (line 2)) (2.3.8)\n",
      "Requirement already satisfied: box2d in /usr/local/lib/python3.9/dist-packages (from -r requirements.txt (line 3)) (2.3.2)\n",
      "Requirement already satisfied: box2d-kengz in /usr/local/lib/python3.9/dist-packages (from -r requirements.txt (line 4)) (2.3.3)\n",
      "Requirement already satisfied: pyvirtualdisplay in /usr/local/lib/python3.9/dist-packages (from -r requirements.txt (line 5)) (3.0)\n",
      "Requirement already satisfied: importlib-metadata>=4.8.0 in /usr/local/lib/python3.9/dist-packages (from gymnasium->-r requirements.txt (line 1)) (4.12.0)\n",
      "Requirement already satisfied: jax-jumpy>=1.0.0 in /usr/local/lib/python3.9/dist-packages (from gymnasium->-r requirements.txt (line 1)) (1.0.0)\n",
      "Requirement already satisfied: farama-notifications>=0.0.1 in /usr/local/lib/python3.9/dist-packages (from gymnasium->-r requirements.txt (line 1)) (0.0.4)\n",
      "Requirement already satisfied: numpy>=1.21.0 in /usr/local/lib/python3.9/dist-packages (from gymnasium->-r requirements.txt (line 1)) (1.23.1)\n",
      "Requirement already satisfied: cloudpickle>=1.2.0 in /usr/local/lib/python3.9/dist-packages (from gymnasium->-r requirements.txt (line 1)) (2.1.0)\n",
      "Requirement already satisfied: typing-extensions>=4.3.0 in /usr/local/lib/python3.9/dist-packages (from gymnasium->-r requirements.txt (line 1)) (4.3.0)\n",
      "Requirement already satisfied: zipp>=0.5 in /usr/local/lib/python3.9/dist-packages (from importlib-metadata>=4.8.0->gymnasium->-r requirements.txt (line 1)) (3.8.1)\n",
      "\u001b[33mWARNING: Running pip as the 'root' user can result in broken permissions and conflicting behaviour with the system package manager. It is recommended to use a virtual environment instead: https://pip.pypa.io/warnings/venv\u001b[0m\u001b[33m\n",
      "Hit:1 https://deb.nodesource.com/node_16.x focal InRelease\n",
      "Hit:2 http://archive.ubuntu.com/ubuntu focal InRelease                         \n",
      "Hit:3 http://ppa.launchpad.net/deadsnakes/ppa/ubuntu focal InRelease           \n",
      "Get:4 http://archive.ubuntu.com/ubuntu focal-updates InRelease [114 kB]\n",
      "Get:5 http://security.ubuntu.com/ubuntu focal-security InRelease [114 kB]\n",
      "Get:6 http://archive.ubuntu.com/ubuntu focal-backports InRelease [108 kB]\n",
      "Get:7 http://archive.ubuntu.com/ubuntu focal-updates/restricted amd64 Packages [2198 kB]\n",
      "Get:8 http://archive.ubuntu.com/ubuntu focal-updates/main amd64 Packages [3069 kB]\n",
      "Fetched 5604 kB in 1s (3949 kB/s)                         \n",
      "Reading package lists... Done\n",
      "Reading package lists... Done\n",
      "Building dependency tree       \n",
      "Reading state information... Done\n",
      "swig is already the newest version (4.0.1-5build1).\n",
      "0 upgraded, 0 newly installed, 0 to remove and 140 not upgraded.\n",
      "Reading package lists... Done\n",
      "Building dependency tree       \n",
      "Reading state information... Done\n",
      "xvfb is already the newest version (2:1.20.13-1ubuntu1~20.04.8).\n",
      "0 upgraded, 0 newly installed, 0 to remove and 140 not upgraded.\n"
     ]
    }
   ],
   "source": [
    "!pip install -r requirements.txt\n",
    "!sudo ./install_requirements"
   ]
  },
  {
   "cell_type": "code",
   "execution_count": 2,
   "id": "8841a28c-6383-4969-b4b4-17a6fe8f4e55",
   "metadata": {},
   "outputs": [],
   "source": [
    "%load_ext autoreload\n",
    "%autoreload 2\n",
    "\n",
    "import gymnasium as gym\n",
    "from pyvirtualdisplay import Display\n",
    "from tools.remote_display import *\n",
    "import numpy as np\n",
    "from learning_algorithm.q_learning import *"
   ]
  },
  {
   "cell_type": "code",
   "execution_count": 3,
   "id": "271c50f2-d11c-4217-892d-f68a25dd0f90",
   "metadata": {},
   "outputs": [
    {
     "ename": "NameError",
     "evalue": "name 'env' is not defined",
     "output_type": "error",
     "traceback": [
      "\u001b[0;31m---------------------------------------------------------------------------\u001b[0m",
      "\u001b[0;31mNameError\u001b[0m                                 Traceback (most recent call last)",
      "Input \u001b[0;32mIn [3]\u001b[0m, in \u001b[0;36m<cell line: 18>\u001b[0;34m()\u001b[0m\n\u001b[1;32m     10\u001b[0m state_bins \u001b[38;5;241m=\u001b[39m [\n\u001b[1;32m     11\u001b[0m     np\u001b[38;5;241m.\u001b[39mlinspace(\u001b[38;5;241m-\u001b[39m\u001b[38;5;241m4.8\u001b[39m, \u001b[38;5;241m4.8\u001b[39m, \u001b[38;5;241m20\u001b[39m),\n\u001b[1;32m     12\u001b[0m     np\u001b[38;5;241m.\u001b[39mlinspace(\u001b[38;5;241m-\u001b[39m\u001b[38;5;241m0.5\u001b[39m, \u001b[38;5;241m0.5\u001b[39m, \u001b[38;5;241m20\u001b[39m),\n\u001b[1;32m     13\u001b[0m     np\u001b[38;5;241m.\u001b[39mlinspace(\u001b[38;5;241m-\u001b[39m\u001b[38;5;241m0.42\u001b[39m, \u001b[38;5;241m0.42\u001b[39m, \u001b[38;5;241m20\u001b[39m),\n\u001b[1;32m     14\u001b[0m     np\u001b[38;5;241m.\u001b[39mlinspace(\u001b[38;5;241m-\u001b[39m\u001b[38;5;241m0.5\u001b[39m, \u001b[38;5;241m0.5\u001b[39m, \u001b[38;5;241m20\u001b[39m)\n\u001b[1;32m     15\u001b[0m ]\n\u001b[1;32m     17\u001b[0m \u001b[38;5;66;03m# Initialize Q-table\u001b[39;00m\n\u001b[0;32m---> 18\u001b[0m n_actions \u001b[38;5;241m=\u001b[39m \u001b[43menv\u001b[49m\u001b[38;5;241m.\u001b[39maction_space\u001b[38;5;241m.\u001b[39mn\n\u001b[1;32m     19\u001b[0m q_table \u001b[38;5;241m=\u001b[39m np\u001b[38;5;241m.\u001b[39mzeros((\u001b[38;5;28mlen\u001b[39m(state_bins[\u001b[38;5;241m0\u001b[39m]) \u001b[38;5;241m+\u001b[39m \u001b[38;5;241m1\u001b[39m, \u001b[38;5;28mlen\u001b[39m(state_bins[\u001b[38;5;241m1\u001b[39m]) \u001b[38;5;241m+\u001b[39m \u001b[38;5;241m1\u001b[39m, \u001b[38;5;28mlen\u001b[39m(state_bins[\u001b[38;5;241m2\u001b[39m]) \u001b[38;5;241m+\u001b[39m \u001b[38;5;241m1\u001b[39m, \u001b[38;5;28mlen\u001b[39m(state_bins[\u001b[38;5;241m3\u001b[39m]) \u001b[38;5;241m+\u001b[39m \u001b[38;5;241m1\u001b[39m, n_actions))\n\u001b[1;32m     21\u001b[0m \u001b[38;5;66;03m# Train Q-learning agent\u001b[39;00m\n",
      "\u001b[0;31mNameError\u001b[0m: name 'env' is not defined"
     ]
    }
   ],
   "source": [
    "# Discretization bins for each state component\n",
    "state_bins = [\n",
    "    np.linspace(-4.8, 4.8, 20),\n",
    "    np.linspace(-0.5, 0.5, 20),\n",
    "    np.linspace(-0.42, 0.42, 20),\n",
    "    np.linspace(-0.5, 0.5, 20)\n",
    "]\n",
    "\n",
    "# Initialize Q-table\n",
    "n_actions = env.action_space.n\n",
    "q_table = np.zeros((len(state_bins[0]) + 1, len(state_bins[1]) + 1, len(state_bins[2]) + 1, len(state_bins[3]) + 1, n_actions))\n",
    "\n",
    "# Train Q-learning agent\n",
    "for episode in range(n_episodes):\n",
    "    state = discretize_state(env.reset()[0], state_bins)\n",
    "    done = False\n",
    "    \n",
    "    while not done:\n",
    "        action = choose_action(state, q_table, epsilon, n_actions)\n",
    "        next_state, reward, done, _ = env.step(action)\n",
    "        next_state = discretize_state(next_state, state_bins)\n",
    "        \n",
    "        update_q_table(q_table, state, action, reward, next_state, alpha, gamma)\n",
    "        state = next_state\n",
    "\n",
    "    # Decay exploration rate\n",
    "    epsilon = max(epsilon_min, epsilon * epsilon_decay)\n",
    "\n",
    "# Test Q-learning agent\n",
    "n_test_episodes = 10\n",
    "for episode in range(n_test_episodes):\n",
    "    state = discretize_state(env.reset(), state_bins)\n",
    "    done = False\n",
    "    total_reward = 0\n",
    "\n",
    "    while not done:\n",
    "        action = choose_action(state, q_table, 0, n_actions)\n",
    "        state, reward, done, _ = env.step(action)\n",
    "        state = discretize_state(state, state_bins)\n",
    "        total_reward += reward\n",
    "\n",
    "    print(f\"Episode {episode + 1}: {total_reward}\")\n",
    "\n",
    "env.close()\n"
   ]
  },
  {
   "cell_type": "code",
   "execution_count": 4,
   "id": "6688a3b9-1e39-4349-8fce-46ff92442767",
   "metadata": {},
   "outputs": [],
   "source": [
    "env = gym.make('CartPole-v1', render_mode='rgb_array')\n",
    "observation, info = env.reset()"
   ]
  },
  {
   "cell_type": "code",
   "execution_count": 29,
   "id": "7384d862-4ec9-4553-add9-1bf01f81df2f",
   "metadata": {},
   "outputs": [],
   "source": [
    "# Discretization bins for each state component\n",
    "state_bins = np.array([\n",
    "    np.linspace(-4.8, 4.8, 20),\n",
    "    np.linspace(-0.5, 0.5, 20),\n",
    "    np.linspace(-0.42, 0.42, 20),\n",
    "    np.linspace(-0.5, 0.5, 20)\n",
    "])\n",
    "\n",
    "q_model = QLearning(state_bins=state_bins, n_actions=2)"
   ]
  },
  {
   "cell_type": "code",
   "execution_count": 30,
   "id": "35b578f3-daa9-4f6e-afde-6edb7502e1e0",
   "metadata": {},
   "outputs": [
    {
     "data": {
      "text/plain": [
       "(21, 21, 21, 21, 2)"
      ]
     },
     "execution_count": 30,
     "metadata": {},
     "output_type": "execute_result"
    }
   ],
   "source": [
    "q_model.q_table.shape"
   ]
  },
  {
   "cell_type": "code",
   "execution_count": null,
   "id": "8ca60637-47c3-4e77-b76e-94ae368d78c4",
   "metadata": {},
   "outputs": [
    {
     "data": {
      "image/png": "[encoded data removed]",
      "text/plain": [
       "<Figure size 432x288 with 1 Axes>"
      ]
     },
     "metadata": {},
     "output_type": "display_data"
    }
   ],
   "source": [
    "# Q-learning parameters\n",
    "n_episodes = 5\n",
    "alpha = 0.1      # Learning rate\n",
    "gamma = 0.99     # Discount factor\n",
    "epsilon = 1.0    # Exploration rate\n",
    "epsilon_min = 0.01\n",
    "epsilon_decay = 0.999\n",
    "max_steps = 100\n",
    "\n",
    "q_model.train(env, n_episodes, max_steps, alpha, gamma, epsilon, epsilon_min, epsilon_decay, real_time_video=True, keep_frames=True)"
   ]
  },
  {
   "cell_type": "code",
   "execution_count": null,
   "id": "20d12430-0c90-4bb4-9c07-9f3f88c9f3bf",
   "metadata": {},
   "outputs": [],
   "source": [
    "env = gym.make('CartPole-v1', render_mode='rgb_array')\n",
    "observation, info = env.reset()\n",
    "\n",
    "for _ in range(1000):\n",
    "    action = env.action_space.sample()  # agent policy that uses the observation and info\n",
    "    observation, reward, terminated, truncated, info = env.step(action)\n",
    "    frame = env.render()\n",
    "\n",
    "    if terminated or truncated:\n",
    "        observation, info = env.reset()\n",
    "        break\n",
    "\n",
    "env.close()\n",
    "ipythondisplay.clear_output(wait=True)"
   ]
  }
 ],
 "metadata": {
  "kernelspec": {
   "display_name": "Python 3 (ipykernel)",
   "language": "python",
   "name": "python3"
  },
  "language_info": {
   "codemirror_mode": {
    "name": "ipython",
    "version": 3
   },
   "file_extension": ".py",
   "mimetype": "text/x-python",
   "name": "python",
   "nbconvert_exporter": "python",
   "pygments_lexer": "ipython3",
   "version": "3.9.13"
  }
 },
 "nbformat": 4,
 "nbformat_minor": 5
}
